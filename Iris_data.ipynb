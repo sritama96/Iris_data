{
  "nbformat": 4,
  "nbformat_minor": 0,
  "metadata": {
    "colab": {
      "name": "Iris_data.ipynb",
      "provenance": []
    },
    "kernelspec": {
      "name": "python3",
      "display_name": "Python 3"
    }
  },
  "cells": [
    {
      "cell_type": "markdown",
      "metadata": {
        "id": "xb5GL3T-DUj4"
      },
      "source": [
        "##The Sparks Foundation\r\n",
        "##Task 1\r\n",
        "##Iris dataset , Finding the optimum number of clusters"
      ]
    },
    {
      "cell_type": "markdown",
      "metadata": {
        "id": "IdiELutpGg1r"
      },
      "source": [
        "**Importing the libraries**"
      ]
    },
    {
      "cell_type": "code",
      "metadata": {
        "id": "8OpQPDL4DMqy"
      },
      "source": [
        "import numpy as np\r\n",
        "import pandas as pd\r\n",
        "import matplotlib.pyplot as plt\r\n"
      ],
      "execution_count": null,
      "outputs": []
    },
    {
      "cell_type": "markdown",
      "metadata": {
        "id": "vSwEIbRzG6Ip"
      },
      "source": [
        "**Loding the Iris dataset**"
      ]
    },
    {
      "cell_type": "code",
      "metadata": {
        "id": "I6q3n2A5G1Gx"
      },
      "source": [
        "from sklearn import datasets\r\n",
        "iris = datasets.load_iris()\r\n",
        "iris_data = pd.DataFrame(iris.data , columns = iris.feature_names)\r\n",
        "iris_data.columns = [\"SepalLengthCm\",\"SepalWidthCm\",\"PetalLengthCm\",\"PetalWidthCm\"]"
      ],
      "execution_count": null,
      "outputs": []
    },
    {
      "cell_type": "markdown",
      "metadata": {
        "id": "4GmLxlUJM69Y"
      },
      "source": [
        "## First 5 rows of the dataset"
      ]
    },
    {
      "cell_type": "code",
      "metadata": {
        "colab": {
          "base_uri": "https://localhost:8080/",
          "height": 197
        },
        "id": "9d6YXNS4HPJ7",
        "outputId": "154d6408-4c19-48cd-96ca-5b77983fc928"
      },
      "source": [
        "iris_data.head()"
      ],
      "execution_count": null,
      "outputs": [
        {
          "output_type": "execute_result",
          "data": {
            "text/html": [
              "<div>\n",
              "<style scoped>\n",
              "    .dataframe tbody tr th:only-of-type {\n",
              "        vertical-align: middle;\n",
              "    }\n",
              "\n",
              "    .dataframe tbody tr th {\n",
              "        vertical-align: top;\n",
              "    }\n",
              "\n",
              "    .dataframe thead th {\n",
              "        text-align: right;\n",
              "    }\n",
              "</style>\n",
              "<table border=\"1\" class=\"dataframe\">\n",
              "  <thead>\n",
              "    <tr style=\"text-align: right;\">\n",
              "      <th></th>\n",
              "      <th>SepalLengthCm</th>\n",
              "      <th>SepalWidthCm</th>\n",
              "      <th>PetalLengthCm</th>\n",
              "      <th>PetalWidthCm</th>\n",
              "    </tr>\n",
              "  </thead>\n",
              "  <tbody>\n",
              "    <tr>\n",
              "      <th>0</th>\n",
              "      <td>5.1</td>\n",
              "      <td>3.5</td>\n",
              "      <td>1.4</td>\n",
              "      <td>0.2</td>\n",
              "    </tr>\n",
              "    <tr>\n",
              "      <th>1</th>\n",
              "      <td>4.9</td>\n",
              "      <td>3.0</td>\n",
              "      <td>1.4</td>\n",
              "      <td>0.2</td>\n",
              "    </tr>\n",
              "    <tr>\n",
              "      <th>2</th>\n",
              "      <td>4.7</td>\n",
              "      <td>3.2</td>\n",
              "      <td>1.3</td>\n",
              "      <td>0.2</td>\n",
              "    </tr>\n",
              "    <tr>\n",
              "      <th>3</th>\n",
              "      <td>4.6</td>\n",
              "      <td>3.1</td>\n",
              "      <td>1.5</td>\n",
              "      <td>0.2</td>\n",
              "    </tr>\n",
              "    <tr>\n",
              "      <th>4</th>\n",
              "      <td>5.0</td>\n",
              "      <td>3.6</td>\n",
              "      <td>1.4</td>\n",
              "      <td>0.2</td>\n",
              "    </tr>\n",
              "  </tbody>\n",
              "</table>\n",
              "</div>"
            ],
            "text/plain": [
              "   SepalLengthCm  SepalWidthCm  PetalLengthCm  PetalWidthCm\n",
              "0            5.1           3.5            1.4           0.2\n",
              "1            4.9           3.0            1.4           0.2\n",
              "2            4.7           3.2            1.3           0.2\n",
              "3            4.6           3.1            1.5           0.2\n",
              "4            5.0           3.6            1.4           0.2"
            ]
          },
          "metadata": {
            "tags": []
          },
          "execution_count": 66
        }
      ]
    },
    {
      "cell_type": "code",
      "metadata": {
        "id": "nZ-fudDtH5TC"
      },
      "source": [
        "x = iris_data.loc[:,[\"SepalLengthCm\",\"SepalWidthCm\",\"PetalLengthCm\",\"PetalWidthCm\"]]"
      ],
      "execution_count": null,
      "outputs": []
    },
    {
      "cell_type": "markdown",
      "metadata": {
        "id": "Y_1hsSdrLO4e"
      },
      "source": [
        "##Here we will use ELBOW PLOT to find the optimum number of clusters"
      ]
    },
    {
      "cell_type": "markdown",
      "metadata": {
        "id": "QcBkBp4MMspC"
      },
      "source": [
        "**Elbow method requires drawing a line plot between SSE (Within-clusters Sum of Squared errors) vs number of clusters. In the line plot, the point at this the SSE or inertia values start decreasing in a linear manner is called as elbow point.**"
      ]
    },
    {
      "cell_type": "code",
      "metadata": {
        "colab": {
          "base_uri": "https://localhost:8080/",
          "height": 521
        },
        "id": "9BwoFgwAJQVo",
        "outputId": "a3b72528-4905-46e2-e237-4ef1e5190305"
      },
      "source": [
        "from sklearn.cluster import KMeans\r\n",
        "wcss = []\r\n",
        "\r\n",
        "for k in range(1,15):\r\n",
        "    kmeans = KMeans(n_clusters=k)\r\n",
        "    kmeans.fit(x)\r\n",
        "    wcss.append(kmeans.inertia_)\r\n",
        "\r\n",
        "\r\n",
        "plt.figure(figsize=(20,8))\r\n",
        "plt.title(\"WCSS / K Chart\", fontsize=18)\r\n",
        "plt.plot(range(1,15),wcss, \"-o\")\r\n",
        "plt.grid(True)\r\n",
        "plt.xlabel(\"Amount of Clusters\",fontsize=14)\r\n",
        "plt.ylabel(\"Inertia\",fontsize=14)\r\n",
        "plt.show()"
      ],
      "execution_count": null,
      "outputs": [
        {
          "output_type": "display_data",
          "data": {
            "image/png": "[encoded data removed]",
            "text/plain": [
              "<Figure size 1440x576 with 1 Axes>"
            ]
          },
          "metadata": {
            "tags": [],
            "needs_background": "light"
          }
        }
      ]
    },
    {
      "cell_type": "markdown",
      "metadata": {
        "id": "_ETCMZs2MTO8"
      },
      "source": [
        "Here we can see that 2 or 3 clusters will be a good choice for optimum number of clusters"
      ]
    },
    {
      "cell_type": "markdown",
      "metadata": {
        "id": "HsTlCu1DNrSR"
      },
      "source": [
        "##We can check it visually"
      ]
    },
    {
      "cell_type": "code",
      "metadata": {
        "colab": {
          "base_uri": "https://localhost:8080/",
          "height": 325
        },
        "id": "Ln2BM9fvN3H5",
        "outputId": "c582fadf-4700-4161-c636-e6b539be20f7"
      },
      "source": [
        "plt.figure(figsize=(24,4))\r\n",
        "\r\n",
        "plt.suptitle(\"K Means Clustering\",fontsize=20)\r\n",
        "\r\n",
        "plt.subplot(1,5,1)\r\n",
        "plt.title(\"K = 1\",fontsize=16)\r\n",
        "plt.xlabel(\"PetalLengthCm\")\r\n",
        "plt.ylabel(\"PetalWidthCm\")\r\n",
        "plt.scatter(x = iris_data[\"PetalLengthCm\"], y = iris_data[\"PetalWidthCm\"])\r\n",
        "\r\n",
        "plt.subplot(1,5,2)\r\n",
        "plt.title(\"K = 2\",fontsize=16)\r\n",
        "plt.xlabel(\"PetalLengthCm\")\r\n",
        "kmeans = KMeans(n_clusters=2)\r\n",
        "x[\"labels\"] = kmeans.fit_predict(x)\r\n",
        "plt.scatter(x.PetalLengthCm[x.labels == 0],x.PetalWidthCm[x.labels == 0])\r\n",
        "plt.scatter(x.PetalLengthCm[x.labels == 1],x.PetalWidthCm[x.labels == 1])\r\n",
        "\r\n",
        "plt.subplot(1,5,3)\r\n",
        "plt.title(\"K = 3\",fontsize=16)\r\n",
        "plt.xlabel(\"PetalLengthCm\")\r\n",
        "kmeans = KMeans(n_clusters=3)\r\n",
        "x[\"labels\"] = kmeans.fit_predict(x)\r\n",
        "plt.scatter(x.PetalLengthCm[x.labels == 0],x.PetalWidthCm[x.labels == 0])\r\n",
        "plt.scatter(x.PetalLengthCm[x.labels == 1],x.PetalWidthCm[x.labels == 1])\r\n",
        "plt.scatter(x.PetalLengthCm[x.labels == 2],x.PetalWidthCm[x.labels == 2])\r\n",
        "\r\n",
        "plt.subplot(1,5,4)\r\n",
        "plt.title(\"K = 4\",fontsize=16)\r\n",
        "plt.xlabel(\"PetalLengthCm\")\r\n",
        "kmeans = KMeans(n_clusters=4)\r\n",
        "x[\"labels\"] = kmeans.fit_predict(x)\r\n",
        "plt.scatter(x.PetalLengthCm[x.labels == 0],x.PetalWidthCm[x.labels == 0])\r\n",
        "plt.scatter(x.PetalLengthCm[x.labels == 1],x.PetalWidthCm[x.labels == 1])\r\n",
        "plt.scatter(x.PetalLengthCm[x.labels == 2],x.PetalWidthCm[x.labels == 2])\r\n",
        "plt.scatter(x.PetalLengthCm[x.labels == 3],x.PetalWidthCm[x.labels == 3])\r\n"
      ],
      "execution_count": null,
      "outputs": [
        {
          "output_type": "execute_result",
          "data": {
            "text/plain": [
              "<matplotlib.collections.PathCollection at 0x7fe8be5499e8>"
            ]
          },
          "metadata": {
            "tags": []
          },
          "execution_count": 69
        },
        {
          "output_type": "display_data",
          "data": {
            "image/png": "[encoded data removed]",
            "text/plain": [
              "<Figure size 1728x288 with 4 Axes>"
            ]
          },
          "metadata": {
            "tags": [],
            "needs_background": "light"
          }
        }
      ]
    },
    {
      "cell_type": "markdown",
      "metadata": {
        "id": "Ap0IE_FvaB2S"
      },
      "source": [
        "**From the above plot we can say that 3 clusters will be optimum number of clusters**"
      ]
    },
    {
      "cell_type": "code",
      "metadata": {
        "id": "ZS64NkyXVstN"
      },
      "source": [
        ""
      ],
      "execution_count": null,
      "outputs": []
    }
  ]
}